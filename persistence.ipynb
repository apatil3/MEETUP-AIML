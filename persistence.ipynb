{
 "cells": [
  {
   "cell_type": "code",
   "execution_count": 15,
   "metadata": {},
   "outputs": [
    {
     "data": {
      "text/plain": [
       "array(['Rating is A', 'Rating is C'], dtype=object)"
      ]
     },
     "execution_count": 15,
     "metadata": {},
     "output_type": "execute_result"
    }
   ],
   "source": [
    "import pandas as pd\n",
    "from sklearn.tree import DecisionTreeClassifier\n",
    "import joblib\n",
    "\n",
    "#Preparing the data\n",
    "# ci_data = pd.read_csv('/Users/amipatil/Meetup-AIML/codeissues.csv')\n",
    "# #codeissues_data\n",
    "# X = ci_data.drop(columns=['Code Rating']) #input data sets\n",
    "# y = ci_data['Code Rating'] #output data sets\n",
    "\n",
    "# #build a model using machine learing algorithm\n",
    "\n",
    "# model = DecisionTreeClassifier()\n",
    "# model.fit(X,y)\n",
    "\n",
    "# joblib.dump(model,'/Users/amipatil/Meetup-AIML/coderating-recommender.joblib')\n",
    "joblib.load('/Users/amipatil/Meetup-AIML/coderating-recommender.joblib')\n",
    "\n",
    "prediction= model.predict([[2,6,8], [20,30,40]])\n",
    "prediction"
   ]
  }
 ],
 "metadata": {
  "kernelspec": {
   "display_name": "Python 3",
   "language": "python",
   "name": "python3"
  },
  "language_info": {
   "codemirror_mode": {
    "name": "ipython",
    "version": 3
   },
   "file_extension": ".py",
   "mimetype": "text/x-python",
   "name": "python",
   "nbconvert_exporter": "python",
   "pygments_lexer": "ipython3",
   "version": "3.8.5"
  }
 },
 "nbformat": 4,
 "nbformat_minor": 4
}
